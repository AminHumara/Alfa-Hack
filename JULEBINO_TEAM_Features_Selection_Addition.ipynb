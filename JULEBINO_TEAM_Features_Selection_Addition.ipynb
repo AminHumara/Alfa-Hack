{
 "cells": [
  {
   "cell_type": "code",
   "execution_count": 1,
   "id": "652a57f2",
   "metadata": {},
   "outputs": [],
   "source": [
    "import pandas as pd\n",
    "import numpy as np\n",
    "import seaborn as sns\n",
    "import matplotlib.pyplot as plt\n",
    "import dask.dataframe as dd\n",
    "\n",
    "from catboost import CatBoostClassifier\n",
    "from sklearn.model_selection import train_test_split\n",
    "from sklearn.metrics import roc_auc_score\n",
    "from collections import defaultdict\n",
    "import glob\n",
    "from collections import Counter\n",
    "import os\n",
    "\n",
    "import tqdm\n",
    "import optuna\n",
    "import warnings\n",
    "warnings.filterwarnings('ignore')"
   ]
  },
  {
   "cell_type": "markdown",
   "id": "7ba7c670",
   "metadata": {},
   "source": [
    "# Сравнение коррелированных признаков по их важности"
   ]
  },
  {
   "cell_type": "code",
   "execution_count": null,
   "id": "24489d9b",
   "metadata": {},
   "outputs": [],
   "source": [
    "corr_features = ['feature_454', 'feature_103', 'feature_495', 'feature_388', 'feature_224', 'feature_428', 'feature_381', 'feature_208', 'feature_285', 'feature_178', 'feature_379', 'feature_410', 'feature_247', 'feature_141', 'feature_173','feature_434']"
   ]
  },
  {
   "cell_type": "code",
   "execution_count": 21,
   "id": "8c97b950",
   "metadata": {},
   "outputs": [
    {
     "data": {
      "text/plain": [
       "['feature_14', 'feature_462', 'feature_44']"
      ]
     },
     "execution_count": 21,
     "metadata": {},
     "output_type": "execute_result"
    }
   ],
   "source": [
    "categorial_features = ['feature_17', 'feature_21', 'feature_22', 'feature_27', 'feature_31', 'feature_43', 'feature_61', 'feature_64', 'feature_80', 'feature_83', 'feature_92', 'feature_133', 'feature_143', 'feature_166', 'feature_191', 'feature_201', 'feature_209', 'feature_251', 'feature_253', 'feature_299', 'feature_300', 'feature_343', 'feature_347', 'feature_382', 'feature_392', 'feature_405', 'feature_406', 'feature_423', 'feature_446', 'feature_449', 'feature_459', 'feature_490', 'feature_492']"
   ]
  },
  {
   "cell_type": "code",
   "execution_count": 10,
   "id": "adf651d5",
   "metadata": {},
   "outputs": [],
   "source": [
    "chosen_features_corr = ['feature_80', 'feature_421', 'feature_47', 'feature_424', 'feature_234', 'feature_48', 'feature_383', 'feature_168', 'feature_157', 'feature_490', 'feature_244', 'feature_239', 'feature_186', 'feature_386', 'feature_11', 'feature_495', 'feature_35', 'feature_332', 'feature_100', 'feature_97', 'feature_153', 'feature_119', 'feature_151', 'feature_147', 'feature_467', 'feature_390', 'feature_365', 'feature_439', 'feature_18', 'feature_178', 'feature_154', 'feature_334', 'feature_353', 'feature_138', 'feature_364', 'feature_114', 'feature_81', 'feature_435', 'feature_318', 'feature_341', 'feature_139', 'feature_323', 'feature_164', 'feature_296', 'feature_86', 'feature_68', 'feature_265', 'feature_428', 'feature_230', 'feature_336', 'feature_470', 'feature_45', 'feature_51', 'feature_264', 'feature_166', 'feature_12', 'feature_366', 'feature_356', 'feature_131', 'feature_14', 'feature_462', 'feature_44', 'feature_87', 'feature_452', 'feature_82', 'feature_481', 'feature_456', 'feature_129', 'feature_325', 'feature_340', 'feature_194', 'feature_132', 'feature_273', 'feature_378', 'feature_66', 'feature_345', 'feature_444', 'feature_305', 'feature_246', 'feature_369', 'feature_270', 'feature_242', 'feature_42', 'feature_493', 'feature_461', 'feature_197', 'feature_331', 'feature_349', 'feature_412', 'feature_458', 'feature_200', 'feature_373', 'feature_480', 'feature_494', 'feature_473', 'feature_380', 'feature_199', 'feature_272', 'feature_402', 'feature_498', 'feature_238', 'feature_351', 'feature_310', 'feature_76', 'feature_223', 'feature_455', 'feature_360', 'feature_359', 'feature_434', 'feature_314', 'feature_408', 'feature_361', 'feature_342', 'feature_394', 'feature_363', 'feature_311', 'feature_291', 'feature_407', 'feature_212', 'feature_137', 'feature_19', 'feature_350', 'feature_1', 'feature_295', 'feature_320', 'feature_451', 'feature_344', 'feature_276', 'feature_357', 'feature_286', 'feature_328', 'feature_368', 'feature_352', 'feature_279', 'feature_346', 'feature_472', 'feature_358', 'feature_303', 'feature_464', 'feature_278', 'feature_384', 'feature_222', 'feature_347', 'feature_398', 'feature_319', 'feature_292', 'feature_301', 'feature_294', 'feature_330', 'feature_333', 'feature_367', 'feature_309']"
   ]
  },
  {
   "cell_type": "code",
   "execution_count": 15,
   "id": "b4e1a2fb",
   "metadata": {},
   "outputs": [
    {
     "name": "stdout",
     "output_type": "stream",
     "text": [
      "0:\tlearn: 0.6733309\ttest: 0.6733179\tbest: 0.6733179 (0)\ttotal: 43.5ms\tremaining: 8.66s\n",
      "199:\tlearn: 0.0816194\ttest: 0.0823408\tbest: 0.0823408 (199)\ttotal: 5.62s\tremaining: 0us\n",
      "bestTest = 0.08234080107\n",
      "bestIteration = 199\n",
      "0:\tlearn: 0.6731503\ttest: 0.6731322\tbest: 0.6731322 (0)\ttotal: 77.4ms\tremaining: 15.4s\n",
      "199:\tlearn: 0.0800061\ttest: 0.0796290\tbest: 0.0796290 (199)\ttotal: 5.9s\tremaining: 0us\n",
      "bestTest = 0.0796290052\n",
      "bestIteration = 199\n",
      "0:\tlearn: 0.6743514\ttest: 0.6743571\tbest: 0.6743571 (0)\ttotal: 55.3ms\tremaining: 11s\n",
      "199:\tlearn: 0.0949433\ttest: 0.0946663\tbest: 0.0946663 (199)\ttotal: 5.47s\tremaining: 0us\n",
      "bestTest = 0.09466634423\n",
      "bestIteration = 199\n",
      "0:\tlearn: 0.6756934\ttest: 0.6756873\tbest: 0.6756873 (0)\ttotal: 37.9ms\tremaining: 7.54s\n",
      "199:\tlearn: 0.1187514\ttest: 0.1190377\tbest: 0.1190377 (199)\ttotal: 5.82s\tremaining: 0us\n",
      "bestTest = 0.1190377494\n",
      "bestIteration = 199\n",
      "0:\tlearn: 0.6782947\ttest: 0.6782743\tbest: 0.6782743 (0)\ttotal: 28ms\tremaining: 5.58s\n",
      "199:\tlearn: 0.1639611\ttest: 0.1630830\tbest: 0.1630830 (199)\ttotal: 5.92s\tremaining: 0us\n",
      "bestTest = 0.1630830451\n",
      "bestIteration = 199\n",
      "Среднее значение ROC-AUC при замене feature_424 на feature_454: 0.7847108721144607\n"
     ]
    }
   ],
   "source": [
    "# Считываем все файлы один раз и сохраняем их в список\n",
    "# train_dfs = [pd.read_csv(f\"Files/Train/train_{i+1}.csv\") for i in range(1, 6)]\n",
    "\n",
    "# Список замен для фичей\n",
    "feature_replacements = [\n",
    "    ('feature_98', 'feature_178'),\n",
    "    ('feature_98', 'feature_285'),\n",
    "    ('feature_98', 'feature_381'),\n",
    "    ('feature_239', 'feature_388'),\n",
    "    ('feature_323', 'feature_325'),\n",
    "    ('feature_323', 'feature_379'),\n",
    "    ('feature_424', 'feature_454')\n",
    "]\n",
    "\n",
    "# Перебор замен и расчет roc_auc\n",
    "full_roc_auc_results = []\n",
    "\n",
    "for original_feature, replacement_feature in feature_replacements:\n",
    "    current_features = [f if f != original_feature else replacement_feature for f in chosen_features_corr]\n",
    "    \n",
    "    # Перебор предзагруженных файлов для каждой замены фичей\n",
    "    full_roc_auc = []\n",
    "    for i, train_df in enumerate(train_dfs):\n",
    "        col_for_drop = ['id', 'smpl']\n",
    "        super_clean_df = train_df.drop(columns=col_for_drop).copy()\n",
    "        \n",
    "        super_clean_df[categorial_features] = super_clean_df[categorial_features].astype(str)\n",
    "        new_train_df = super_clean_df.copy()\n",
    "\n",
    "        # Формирование датасета с измененными фичами\n",
    "        new_train_df_imp_columns = new_train_df[current_features + ['feature_173'] + ['target']]\n",
    "        X_train, X_val, X_test, y_train, y_val, y_test = get_train_val_test_split(new_train_df_imp_columns, 'target')\n",
    "        \n",
    "        model_categorial_f = list(np.intersect1d(categorial_features, new_train_df_imp_columns.columns))\n",
    "        best_params = train_best_params[-1]\n",
    "        \n",
    "        # Инициализация и обучение CatBoost модели\n",
    "        CatBoostModel = CatBoostClassifier(\n",
    "            loss_function='CrossEntropy',\n",
    "            random_state=42,\n",
    "            task_type='GPU',\n",
    "            verbose=False,\n",
    "            **best_params\n",
    "        )\n",
    "        CatBoostModel.fit(\n",
    "            X_train, y_train,\n",
    "            eval_set=(X_val, y_val),\n",
    "            cat_features=model_categorial_f,\n",
    "            plot=False,\n",
    "            verbose=1000\n",
    "        )\n",
    "        \n",
    "        # Предсказание и расчет ROC-AUC\n",
    "        y_pred_proba = CatBoostModel.predict_proba(X_test)[:, 1]\n",
    "        roc_auc = roc_auc_score(y_test, y_pred_proba)\n",
    "        full_roc_auc.append(roc_auc)\n",
    "    \n",
    "    # Среднее значение roc_auc для текущей замены\n",
    "    avg_roc_auc = np.mean(full_roc_auc)\n",
    "    print(f\"Среднее значение ROC-AUC при замене {original_feature} на {replacement_feature}: {avg_roc_auc}\")\n",
    "    full_roc_auc_results.append((original_feature, replacement_feature, avg_roc_auc))"
   ]
  },
  {
   "cell_type": "markdown",
   "id": "955e2e40",
   "metadata": {},
   "source": [
    "**Вывод:**\n",
    "\n",
    "feature_495 вместо feature_9\\\n",
    "'feature_50' на 'feature_428'"
   ]
  },
  {
   "cell_type": "code",
   "execution_count": null,
   "id": "06f01129",
   "metadata": {},
   "outputs": [],
   "source": []
  }
 ],
 "metadata": {
  "kernelspec": {
   "display_name": "GPU",
   "language": "python",
   "name": "gpu_1"
  },
  "language_info": {
   "codemirror_mode": {
    "name": "ipython",
    "version": 3
   },
   "file_extension": ".py",
   "mimetype": "text/x-python",
   "name": "python",
   "nbconvert_exporter": "python",
   "pygments_lexer": "ipython3",
   "version": "3.9.19"
  }
 },
 "nbformat": 4,
 "nbformat_minor": 5
}
